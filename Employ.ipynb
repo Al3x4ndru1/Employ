{
 "cells": [
  {
   "cell_type": "markdown",
   "metadata": {},
   "source": [
    "# How to use the Rack and the laptop as well"
   ]
  },
  {
   "cell_type": "markdown",
   "metadata": {},
   "source": [
    "## Why"
   ]
  },
  {
   "cell_type": "markdown",
   "metadata": {},
   "source": [
    "First why do you need to use both at the same time?\n",
    "\n",
    "You can 1 computer to communicate via chat with the persos that presents and this computer is not vital to your meeting. On the other computer (The rack) you can have the main meeting and also you can have the video on this one because it can have a better camera."
   ]
  },
  {
   "cell_type": "markdown",
   "metadata": {},
   "source": [
    "## How"
   ]
  },
  {
   "cell_type": "markdown",
   "metadata": {},
   "source": [
    "Firstly you have to start the meeting on the laptop. After, open the Ms Teams on the rack and click on \" **Join** \" button and select the \" **Add this PC** \" option."
   ]
  },
  {
   "cell_type": "markdown",
   "metadata": {},
   "source": [
    "The Join button:\n",
    "<br>\n",
    "\n",
    "![]()"
   ]
  },
  {
   "cell_type": "markdown",
   "metadata": {},
   "source": [
    "Now keep in mind that you have to mute your laptop  and when the other person speaks you have to mute the Rack as well."
   ]
  }
 ],
 "metadata": {
  "kernelspec": {
   "display_name": "Python 3.10.6 64-bit",
   "language": "python",
   "name": "python3"
  },
  "language_info": {
   "codemirror_mode": {
    "name": "ipython",
    "version": 3
   },
   "file_extension": ".py",
   "mimetype": "text/x-python",
   "name": "python",
   "nbconvert_exporter": "python",
   "pygments_lexer": "ipython3",
   "version": "3.10.6"
  },
  "orig_nbformat": 4,
  "vscode": {
   "interpreter": {
    "hash": "916dbcbb3f70747c44a77c7bcd40155683ae19c65e1c03b4aa3499c5328201f1"
   }
  }
 },
 "nbformat": 4,
 "nbformat_minor": 2
}
